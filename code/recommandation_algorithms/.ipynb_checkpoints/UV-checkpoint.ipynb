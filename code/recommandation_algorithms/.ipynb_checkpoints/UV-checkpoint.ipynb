{
 "cells": [
  {
   "cell_type": "code",
   "execution_count": 73,
   "metadata": {
    "id": "rMh6MU6vNMs9"
   },
   "outputs": [],
   "source": [
    "import seaborn as sns\n",
    "import pandas as pd\n",
    "import numpy as np\n",
    "\n",
    "UV = pd.read_csv(\"../R/dataBranche.csv\")"
   ]
  },
  {
   "cell_type": "code",
   "execution_count": 74,
   "metadata": {
    "id": "31khKE7zNMs-"
   },
   "outputs": [],
   "source": [
    "UV.index = UV.codeUVBranche\n",
    "data = UV[\"titreUVBranche\"]"
   ]
  },
  {
   "cell_type": "code",
   "execution_count": 76,
   "metadata": {
    "id": "BLLfyoelNMs_"
   },
   "outputs": [],
   "source": [
    "import spacy\n",
    "nlp = spacy.load(\"fr_core_news_sm\")"
   ]
  },
  {
   "cell_type": "code",
   "execution_count": 77,
   "metadata": {
    "id": "I08IKlMnNMtA"
   },
   "outputs": [
    {
     "data": {
      "text/plain": [
       "codeUVBranche\n",
       "AC01      REVISION D'ANALYSE ET D'ALGEBRE (APPRENTISSAGE)\n",
       "AC02            BASES DE LA PROGRAMMATION (APPRENTISSAGE)\n",
       "AC03    PARTICIPER E UNE DEMARCHE QUALITE EN ENTREPRIS...\n",
       "AC04    METHODES STATISTIQUES POUR L'INGENIEUR (APPREN...\n",
       "AI01    ALGORITHMIQUE ET STRUCTURE DE DONNEES (APPRENT...\n",
       "Name: titreUVBranche, dtype: object"
      ]
     },
     "execution_count": 77,
     "metadata": {},
     "output_type": "execute_result"
    }
   ],
   "source": [
    "textes = data.loc[data.isna() == False]\n",
    "textes.head()"
   ]
  },
  {
   "cell_type": "code",
   "execution_count": 78,
   "metadata": {
    "id": "1cm07cCYNMtB",
    "outputId": "2190ae8f-3139-41aa-f434-6951d0402aeb"
   },
   "outputs": [
    {
     "name": "stdout",
     "output_type": "stream",
     "text": [
      "CPU times: total: 938 ms\n",
      "Wall time: 986 ms\n"
     ]
    }
   ],
   "source": [
    "%%time\n",
    "spacy_docs = list(nlp.pipe(textes))"
   ]
  },
  {
   "cell_type": "code",
   "execution_count": 80,
   "metadata": {},
   "outputs": [
    {
     "data": {
      "text/plain": [
       "[BASES DE LA PROGRAMMATION (APPRENTISSAGE),\n",
       " PARTICIPER E UNE DEMARCHE QUALITE EN ENTREPRISE (APPRENTISSAGE),\n",
       " METHODES STATISTIQUES POUR L'INGENIEUR (APPRENTISSAGE),\n",
       " ALGORITHMIQUE ET STRUCTURE DE DONNEES (APPRENTISSAGE)]"
      ]
     },
     "execution_count": 80,
     "metadata": {},
     "output_type": "execute_result"
    }
   ],
   "source": [
    "spacy_docs[1:5]"
   ]
  },
  {
   "cell_type": "markdown",
   "metadata": {
    "id": "8d1qIX32NMtB"
   },
   "source": [
    "Nous avons maintenant une liste de documents spaCy. Nous allons transformer chaque document spaCy en une liste de tokens. Au lieu des tokens originaux, nous allons travailler avec les lemmes à la place. Cela permettra à notre modèle de mieux généraliser. En effet, nous voulons par exemple que \"continuation\" et \"continuations\" représentent la même signification. Voici la liste complète des prétraitements : \n",
    " \n",
    "1. supprimer tous les **mots de moins de 3 caractères**,\n",
    "2. supprimer tous les **stop-words**, et\n",
    "3. **lemmatiser** les mots restants et,\n",
    "4. mettre ces mots en **minuscules**."
   ]
  },
  {
   "cell_type": "code",
   "execution_count": 81,
   "metadata": {
    "id": "4lBuue5HNMtB",
    "outputId": "d29b5892-f01e-40ad-d307-90d84e6216b6"
   },
   "outputs": [
    {
     "name": "stdout",
     "output_type": "stream",
     "text": [
      "CPU times: total: 0 ns\n",
      "Wall time: 2 ms\n"
     ]
    }
   ],
   "source": [
    "%%time\n",
    "docs = []\n",
    "for doc in spacy_docs:\n",
    "    tokens = []\n",
    "    for token in doc:\n",
    "        if len(token.orth_) > 3 and not token.is_stop:\n",
    "            tokens.append( token.lemma_.lower() )  \n",
    "    docs.append( tokens )"
   ]
  },
  {
   "cell_type": "markdown",
   "metadata": {
    "id": "YKi7OhZgNMtC"
   },
   "source": [
    "Voici un aperçu du **premier** document tokenisé :"
   ]
  },
  {
   "cell_type": "code",
   "execution_count": 16,
   "metadata": {
    "id": "QPWePXVQNMtC",
    "outputId": "eea1b768-6b0d-4300-ecae-2e9819acedf0"
   },
   "outputs": [
    {
     "name": "stdout",
     "output_type": "stream",
     "text": [
      "['revision', 'analyse', 'algebre', 'apprentissage']\n"
     ]
    }
   ],
   "source": [
    "print(docs[0])"
   ]
  },
  {
   "cell_type": "markdown",
   "metadata": {
    "id": "_fSbGDqFNMtC"
   },
   "source": [
    "**deuxième** document tokenisé :"
   ]
  },
  {
   "cell_type": "code",
   "execution_count": 17,
   "metadata": {
    "id": "InXqmg0tNMtC",
    "outputId": "5673875b-c102-4281-eeea-a897e2217583"
   },
   "outputs": [
    {
     "name": "stdout",
     "output_type": "stream",
     "text": [
      "['base', 'programmation', 'apprentissage']\n"
     ]
    }
   ],
   "source": [
    "print(docs[1])"
   ]
  },
  {
   "cell_type": "code",
   "execution_count": 18,
   "metadata": {},
   "outputs": [],
   "source": [
    "import re\n",
    "from gensim.models import Phrases\n",
    "\n",
    "bigram = Phrases(docs, min_count=10)\n",
    "\n",
    "for index in range(len(docs)):\n",
    "    for token in bigram[docs[index]]:\n",
    "        if '_' in token: \n",
    "            docs[index].append(token) "
   ]
  },
  {
   "cell_type": "code",
   "execution_count": 91,
   "metadata": {
    "id": "TQyzNC2JNMtD",
    "outputId": "22709ce3-b3ab-4dc0-bc4e-b6c69ea03114"
   },
   "outputs": [
    {
     "name": "stdout",
     "output_type": "stream",
     "text": [
      "['architectur', 'reseau', 'apprentissage']\n"
     ]
    }
   ],
   "source": [
    "print(docs[8])"
   ]
  },
  {
   "cell_type": "code",
   "execution_count": 20,
   "metadata": {
    "id": "bjbhuHq9NMtD",
    "outputId": "406fe8db-9a70-4b33-bac4-bffb973c5d8c"
   },
   "outputs": [
    {
     "name": "stdout",
     "output_type": "stream",
     "text": [
      "Nombre de mots unique dans les documents initiaux : 536\n",
      "Nombre de mots unique dans les documents après avoir enlevé les mots fréquents/peu fréquents : 135\n",
      "Exemple : [(2, 1), (11, 1), (12, 1), (13, 1)]\n"
     ]
    }
   ],
   "source": [
    "from gensim.corpora import Dictionary\n",
    "\n",
    "dictionary = Dictionary(docs)\n",
    "print('Nombre de mots unique dans les documents initiaux :', len(dictionary))\n",
    "\n",
    "dictionary.filter_extremes(no_below=3, no_above=0.25)\n",
    "print('Nombre de mots unique dans les documents après avoir enlevé les mots fréquents/peu fréquents :', len(dictionary))\n",
    "\n",
    "print(\"Exemple :\", dictionary.doc2bow(docs[4]))"
   ]
  },
  {
   "cell_type": "markdown",
   "metadata": {
    "id": "H-lQdnajNMtE"
   },
   "source": [
    "Ensuite, nous créons des représentations en Bag-of-Words pour chaque document du corpus voir la méthode [doc2bow](https://radimrehurek.com/gensim/corpora/dictionary.html) :"
   ]
  },
  {
   "cell_type": "code",
   "execution_count": 92,
   "metadata": {
    "id": "S2R_fcxONMtE"
   },
   "outputs": [],
   "source": [
    "corpus = [ dictionary.doc2bow(doc) for doc in docs]"
   ]
  },
  {
   "cell_type": "markdown",
   "metadata": {
    "id": "4dKi7LDTNMtE"
   },
   "source": [
    "## 4. Topic Modeling avec LDA\n",
    "\n",
    "Maintenant, il est temps d'entraîner notre LDA ! Pour ce faire, nous utilisons les paramètres suivants : \n",
    "\n",
    "- **corpus** : les représentations en sac-de-mots de nos documents\n",
    "- **id2token** : le mappage des index aux mots\n",
    "- **num_topics** : le nombre de topics que le modèle doit identifier (fixons à <font color = \"red\"><b>10</b></font>)\n",
    "- **chunksize** : le nombre de documents que le modèle voit à chaque mise à jour (fixons à <font color = \"red\"><b>1 000</b></font>)\n",
    "- **passes** : le nombre de fois où nous montrons le corpus total au modèle pendant l'entraînement (fixons à <font color = \"red\"><b>5</b></font>)\n",
    "- **random_state** : nous utilisons une graine pour assurer la reproductibilité (fixons à <font color = \"red\"><b>1</b></font>)"
   ]
  },
  {
   "cell_type": "code",
   "execution_count": 94,
   "metadata": {
    "id": "0xRIgTbZNMtE",
    "outputId": "d956c431-148a-4f4f-90b5-801389c5cdaf"
   },
   "outputs": [
    {
     "name": "stdout",
     "output_type": "stream",
     "text": [
      "CPU times: total: 766 ms\n",
      "Wall time: 778 ms\n"
     ]
    }
   ],
   "source": [
    "%%time\n",
    "from gensim.models import LdaModel\n",
    "\n",
    "model = LdaModel(corpus=corpus, id2word=dictionary, num_topics=5, chunksize=1000, passes=5, random_state=1)"
   ]
  },
  {
   "cell_type": "markdown",
   "metadata": {
    "id": "KUK-gOIANMtF"
   },
   "source": [
    "##  Résultats et visualisation"
   ]
  },
  {
   "cell_type": "code",
   "execution_count": 95,
   "metadata": {
    "id": "CvwEAXumNMtF",
    "outputId": "3dcc5102-f594-4195-a026-42e91c431fce"
   },
   "outputs": [
    {
     "name": "stdout",
     "output_type": "stream",
     "text": [
      "***********\n",
      "* topic 1 *\n",
      "***********\n",
      "1 : 0.059*\"application\" + 0.057*\"ingenieur\" + 0.051*\"apprentissage\" + 0.046*\"introduction\" + 0.045*\"programmation\" + 0.040*\"industriel\" + 0.039*\"science\" + 0.037*\"informatique\" + 0.029*\"structure\" + 0.028*\"theorie\"\n",
      "\n",
      "***********\n",
      "* topic 2 *\n",
      "***********\n",
      "2 : 0.143*\"niveau\" + 0.075*\"apprentissage\" + 0.068*\"technique\" + 0.046*\"anglais\" + 0.041*\"gestion\" + 0.026*\"entreprise\" + 0.025*\"base\" + 0.024*\"genie\" + 0.023*\"modelisation\" + 0.018*\"physique\"\n",
      "\n",
      "***********\n",
      "* topic 3 *\n",
      "***********\n",
      "3 : 0.059*\"analyse\" + 0.058*\"initiation\" + 0.049*\"ingenierie\" + 0.045*\"apprentissage\" + 0.040*\"systeme\" + 0.029*\"numeriqu\" + 0.029*\"traitement\" + 0.026*\"mecaniqu\" + 0.025*\"intelligence\" + 0.025*\"produit\"\n",
      "\n",
      "***********\n",
      "* topic 4 *\n",
      "***********\n",
      "4 : 0.083*\"systeme\" + 0.072*\"modelisation\" + 0.049*\"apprentissage\" + 0.046*\"procede\" + 0.039*\"management\" + 0.036*\"industriel\" + 0.031*\"technologie\" + 0.031*\"numerique\" + 0.031*\"innovation\" + 0.030*\"maetrise\"\n",
      "\n",
      "***********\n",
      "* topic 5 *\n",
      "***********\n",
      "5 : 0.115*\"apprentissage\" + 0.063*\"projet\" + 0.058*\"materiaux\" + 0.054*\"mecaniqu\" + 0.046*\"conception\" + 0.029*\"optimisation\" + 0.027*\"introduction\" + 0.026*\"element\" + 0.026*\"developpement\" + 0.023*\"systeme\"\n",
      "\n"
     ]
    }
   ],
   "source": [
    "for (topic, words) in model.print_topics():\n",
    "    print(\"***********\")\n",
    "    print(\"* topic\", topic+1, \"*\")\n",
    "    print(\"***********\")\n",
    "    print(topic+1, \":\", words)\n",
    "    print()"
   ]
  },
  {
   "cell_type": "markdown",
   "metadata": {
    "id": "WvoeEazWNMtF"
   },
   "source": [
    "Une autre façon d'observer les topics est de les **visualiser**. Ceci peut être fait avec la bibliothèque [pyLDAvis](https://github.com/bmabey/pyLDAvis). PyLDAvis nous illustre :\n",
    "\n",
    "- à quel point les sujets sont **populaires** dans notre corpus, \n",
    "- à quel point les sujets sont **similaires**\n",
    "- et quels sont les **mots les plus importants** pour ce sujet. \n",
    "\n",
    "Notez que cela peut prendre quelques minutes pour charger."
   ]
  },
  {
   "cell_type": "code",
   "execution_count": 96,
   "metadata": {
    "id": "shraK8EWNMtF",
    "outputId": "b832f460-3572-4b56-f8d7-f75de7f9d4e9",
    "scrolled": false
   },
   "outputs": [
    {
     "name": "stderr",
     "output_type": "stream",
     "text": [
      "C:\\Users\\brieu\\anaconda3\\lib\\site-packages\\pyLDAvis\\_prepare.py:246: FutureWarning: In a future version of pandas all arguments of DataFrame.drop except for the argument 'labels' will be keyword-only.\n",
      "  default_term_info = default_term_info.sort_values(\n"
     ]
    },
    {
     "data": {
      "text/html": [
       "\n",
       "<link rel=\"stylesheet\" type=\"text/css\" href=\"https://cdn.jsdelivr.net/gh/bmabey/pyLDAvis@3.3.1/pyLDAvis/js/ldavis.v1.0.0.css\">\n",
       "\n",
       "\n",
       "<div id=\"ldavis_el1802415485820764803199390045\"></div>\n",
       "<script type=\"text/javascript\">\n",
       "\n",
       "var ldavis_el1802415485820764803199390045_data = {\"mdsDat\": {\"x\": [0.05609731271678801, -0.24780682884167943, 0.049133581779298004, 0.10751138159673237, 0.03506455274886109], \"y\": [0.13512247142371783, -0.013542717139343508, -0.15817835663371865, -0.06138888057193658, 0.09798748292128061], \"topics\": [1, 2, 3, 4, 5], \"cluster\": [1, 1, 1, 1, 1], \"Freq\": [17.19398929293323, 22.034988830365844, 19.587130792537426, 19.007566333056428, 22.176324751107078]}, \"tinfo\": {\"Term\": [\"niveau\", \"modelisation\", \"technique\", \"projet\", \"materiaux\", \"initiation\", \"application\", \"analyse\", \"systeme\", \"mecaniqu\", \"ingenieur\", \"anglais\", \"ingenierie\", \"procede\", \"science\", \"programmation\", \"introduction\", \"informatique\", \"industriel\", \"conception\", \"pratique\", \"numerique\", \"innovation\", \"gestion\", \"technologie\", \"traitement\", \"theorie\", \"management\", \"optimisation\", \"methodes\", \"application\", \"science\", \"theorie\", \"securite\", \"industrie\", \"probleme\", \"thermodynamique\", \"logique\", \"internet\", \"langage\", \"contemporain\", \"ingenieur\", \"programmation\", \"calcul\", \"informatique\", \"structure\", \"objet\", \"portugais\", \"communication\", \"histoire\", \"introduction\", \"strategie\", \"pratique\", \"industriel\", \"biologique\", \"professionnel\", \"realisation\", \"solide\", \"algebre\", \"contemporaine\", \"acoustique\", \"apprentissage\", \"conception\", \"betiment\", \"systeme\", \"optimisation\", \"niveau\", \"anglais\", \"technique\", \"base\", \"franeai\", \"langue\", \"etrangere\", \"italien\", \"algorithmique\", \"learning\", \"cellulaire\", \"phenomene\", \"moleculaire\", \"architectur\", \"genie\", \"qualite\", \"allemand\", \"chimie\", \"espagnol\", \"chinois\", \"societe\", \"entreprise\", \"gestion\", \"machine\", \"construction\", \"logiciel\", \"professionnel\", \"physique\", \"donnee\", \"connaissance\", \"apprentissage\", \"modelisation\", \"programmation\", \"biologique\", \"numeriqu\", \"initiation\", \"intelligence\", \"produit\", \"traitement\", \"ingenierie\", \"analyse\", \"interculturalite\", \"japonais\", \"public\", \"robotique\", \"concept\", \"electrique\", \"reseau\", \"algorithme\", \"droit\", \"design\", \"economie\", \"dynamique\", \"robuste\", \"capteur\", \"fluide\", \"demarche\", \"economiqu\", \"algebre\", \"solide\", \"outils\", \"numeriqu\", \"intelligent\", \"connaissance\", \"automatique\", \"strategie\", \"donnee\", \"systeme\", \"mecaniqu\", \"apprentissage\", \"conception\", \"industriel\", \"entreprise\", \"organisation\", \"numerique\", \"methodes\", \"innovation\", \"travail\", \"sante\", \"statistique\", \"interaction\", \"thermique\", \"outil\", \"monde\", \"technologie\", \"maetrise\", \"modelisation\", \"betiment\", \"procede\", \"urbaine\", \"management\", \"chimique\", \"pratique\", \"risque\", \"situation\", \"systeme\", \"integre\", \"organisation\", \"intelligent\", \"industriel\", \"production\", \"economiqu\", \"collectif\", \"contemporaine\", \"simulation\", \"ingenieur\", \"apprentissage\", \"analyse\", \"materiaux\", \"projet\", \"developpement\", \"vibration\", \"atelier\", \"methode\", \"logistique\", \"commande\", \"optimisation\", \"recherche\", \"philosophie\", \"transfert\", \"mecanique\", \"operationnelle\", \"propriete\", \"mecaniqu\", \"element\", \"fabrication\", \"etude\", \"conception\", \"acoustique\", \"integre\", \"simulation\", \"physique\", \"introduction\", \"apprentissage\", \"operation\", \"informatique\", \"urbaine\", \"procede\", \"gestion\", \"numeriqu\", \"systeme\"], \"Freq\": [30.0, 17.0, 15.0, 14.0, 12.0, 11.0, 10.0, 13.0, 28.0, 16.0, 12.0, 10.0, 10.0, 12.0, 7.0, 10.0, 14.0, 9.0, 16.0, 16.0, 9.0, 6.0, 6.0, 14.0, 7.0, 6.0, 5.0, 11.0, 7.0, 5.0, 9.339081645316208, 6.176540952421079, 4.424109221693044, 2.9297480873560553, 2.7656458269061033, 2.76011800253298, 2.7571004332375217, 3.406232805513417, 2.694439378736806, 3.2839189090034266, 2.563299384437726, 8.922305032791845, 6.991112146120718, 2.8460409490201464, 5.846655130799384, 4.583393897674782, 2.023676560974848, 2.0165830801295797, 2.8853313386877146, 2.721199545825084, 7.220222264478881, 1.9482291413848791, 3.549949514011746, 6.210041234802924, 2.0253182414796296, 1.0985480026123575, 1.0940899971985127, 1.0996116811690002, 1.0959376735917297, 1.102220255788875, 1.682757751616634, 7.964352513537858, 2.9247603260147836, 1.2215078840996727, 1.684812739698851, 1.2423676359548723, 28.829904583515315, 9.350996858155089, 13.605440874705405, 5.068162856260905, 3.5363278772809132, 3.5361465099344014, 3.53576204113787, 3.533929631376624, 2.693937633058622, 2.69296859182292, 2.692656819855362, 2.6914217232146536, 2.6913675753188455, 2.6292947883381173, 4.754897980627879, 3.5358441061149075, 3.5365811920045536, 2.1926482175367425, 2.7011541048749974, 2.700463672362708, 2.694745354784668, 5.1661038464587765, 8.243089690076404, 3.4153262538096105, 1.8525495933161777, 1.8490708252142294, 1.8525055630202787, 3.59267616370588, 3.0588084512038436, 1.8520856826240668, 15.159444264537248, 4.580817179679894, 2.4193424116396867, 1.9710712806320763, 1.9899797633207457, 10.317893312392583, 4.479046806364839, 4.477703089957936, 5.180504743914388, 8.764773659562932, 10.594578310821744, 2.7903855069253307, 2.7889108830945517, 2.7887518289090543, 2.7312111876115432, 3.3741894812480475, 3.1095356411979016, 3.6952854061480176, 2.348257674306112, 2.2780643141895047, 3.904599381871503, 4.36508173439935, 2.738463059176912, 2.0041685099430913, 1.9282293798312224, 1.9233664854771357, 1.9240191905587738, 1.9259016926097445, 1.9232004362384543, 1.8589595332838122, 2.7349099052571204, 5.2722565248468625, 1.9807354148738638, 1.9211000882454619, 1.862443069769533, 1.9239239245963606, 2.413872605564789, 7.23743044461921, 4.650088181335519, 8.015985193582608, 3.624869536720599, 2.7836645932064177, 2.351615466383403, 2.0670050726965665, 5.405431102738009, 4.607295561718971, 5.335797400323851, 4.57413516273854, 3.6678170807467607, 2.8905406515704133, 2.889604866772648, 2.827763552655459, 2.7768927394886522, 3.386135512884169, 5.4257688256761085, 5.1288593400854605, 12.502594327104852, 3.5360566417710517, 8.042002669370463, 3.1498487201023937, 6.716116826584441, 1.988946100925696, 4.9251142616198935, 2.9055523205835456, 1.8434781116817884, 14.411530666200752, 1.9825939161404509, 3.172258422506356, 1.924827710467278, 6.2132742392826055, 2.303100047754196, 1.0785452334988996, 1.0822933021262875, 1.0818252481065418, 1.9892992425117264, 2.8140086474743518, 8.554268399478673, 1.9668219825869582, 11.760373843758689, 12.8451913017732, 5.203827460587683, 3.527116606741683, 3.469173302941204, 3.460289263918093, 2.6875021330691538, 2.627284361409933, 5.915409683378751, 4.5638394971737615, 2.5485387843787666, 3.1461522915097877, 4.37268312634036, 3.0342915410456346, 3.4974855439558508, 10.978691548567152, 5.215053096515939, 3.3394294499412056, 2.688713284375463, 9.340729239674609, 3.0051918536889133, 1.8514426703849236, 2.6916124672081736, 2.5465596088983027, 5.531824129736611, 23.243311635582504, 1.8555326395323382, 3.283371039252647, 1.604669884606695, 3.6933466049795705, 4.246096601298144, 2.682597375692787, 4.623510431095431], \"Total\": [30.0, 17.0, 15.0, 14.0, 12.0, 11.0, 10.0, 13.0, 28.0, 16.0, 12.0, 10.0, 10.0, 12.0, 7.0, 10.0, 14.0, 9.0, 16.0, 16.0, 9.0, 6.0, 6.0, 14.0, 7.0, 6.0, 5.0, 11.0, 7.0, 5.0, 10.897603157428373, 7.268843217695755, 5.43590764083767, 3.6236118421134336, 3.610369889740733, 3.6098410124347025, 3.609705317845017, 4.5218912379972505, 3.6088316317421416, 4.49538565507752, 3.606415639718852, 12.71196310639233, 10.691958997959725, 4.5200500589763015, 9.750759087517629, 7.968782612542315, 3.5811028296047223, 3.580604126753765, 5.306754638121142, 5.303637770548073, 14.944975639267083, 4.448535618156597, 9.051689504794398, 16.180803300449504, 6.134586337223314, 3.4757929429281305, 3.5044886141486975, 3.5355989748665464, 3.5375916300415526, 3.5681580827173627, 6.0933577749066, 62.937362006718885, 16.357391287889588, 5.39816002879817, 28.31290826921326, 7.684861751416484, 30.387027526876977, 10.143199234267692, 15.19970342987085, 5.93438715266865, 4.2442450954260185, 4.244253420122832, 4.244279378035594, 4.244335955239753, 3.401977135978834, 3.4020145152814547, 3.4020467649950534, 3.4020177409757855, 3.4020820375841847, 3.4022708311571375, 6.801258146076931, 5.08459219628577, 5.160274992728697, 3.4203735201778995, 4.274929144141441, 4.274967900556006, 4.318061051318016, 8.568702558097156, 14.432311181854232, 5.9922535226616285, 3.400103472279038, 3.3999961763265634, 3.4757929429281305, 6.768542999681487, 6.008233706630194, 4.306149725972967, 62.937362006718885, 17.72412575507166, 10.691958997959725, 6.134586337223314, 10.315175337289423, 11.342241647754767, 5.2433667847578365, 5.243410123418975, 6.122471802194072, 10.495225444053869, 13.15775311211651, 3.4948252082274927, 3.494726937665591, 3.494811323563169, 3.4925377108050943, 4.3575611852625755, 4.385636575565835, 5.277204538280506, 3.4801941000260204, 3.475433970666093, 6.0576465188093165, 6.935685919021883, 4.4085172631771625, 3.5222723098365285, 3.4641308809016467, 3.4619178755943976, 3.463958080510372, 3.5250002344809697, 3.5375916300415526, 3.5355989748665464, 5.236387972193829, 10.315175337289423, 4.426717904452726, 4.306149725972967, 4.301874087680523, 4.448535618156597, 6.008233706630194, 28.31290826921326, 16.168805546154175, 62.937362006718885, 16.357391287889588, 16.180803300449504, 8.568702558097156, 7.120505077325594, 6.283731255345721, 5.387188239110355, 6.2811331428984865, 5.384935610668164, 4.481130864950077, 3.586019498232748, 3.5859721020456004, 3.5817640339177896, 3.5780348354815756, 4.4758348472059515, 7.20207726683618, 7.115488716414852, 17.72412575507166, 5.39816002879817, 12.353283901530949, 5.284763335875641, 11.437778852018464, 3.598409857617572, 9.051689504794398, 5.345127176620705, 3.545419198266199, 28.31290826921326, 4.3625381369284, 7.120505077325594, 4.426717904452726, 16.180803300449504, 6.947237674706907, 3.5250002344809697, 3.568136590949583, 3.5681580827173627, 6.949443822080881, 12.71196310639233, 62.937362006718885, 13.15775311211651, 12.652175240524818, 14.376514362363851, 5.9167644220627, 4.2361030886797915, 4.241337705121046, 4.23624788859585, 3.395843753608839, 3.396095970638127, 7.684861751416484, 5.974696903448654, 3.3962918962086874, 4.237072297264619, 5.991995159937439, 4.280645012975045, 5.110496198610105, 16.168805546154175, 7.72606250848652, 5.153812998693385, 4.299296038763234, 16.357391287889588, 6.0933577749066, 4.3625381369284, 6.949443822080881, 6.768542999681487, 14.944975639267083, 62.937362006718885, 5.218103046572933, 9.750759087517629, 5.284763335875641, 12.353283901530949, 14.432311181854232, 10.315175337289423, 28.31290826921326], \"Category\": [\"Default\", \"Default\", \"Default\", \"Default\", \"Default\", \"Default\", \"Default\", \"Default\", \"Default\", \"Default\", \"Default\", \"Default\", \"Default\", \"Default\", \"Default\", \"Default\", \"Default\", \"Default\", \"Default\", \"Default\", \"Default\", \"Default\", \"Default\", \"Default\", \"Default\", \"Default\", \"Default\", \"Default\", \"Default\", \"Default\", \"Topic1\", \"Topic1\", \"Topic1\", \"Topic1\", \"Topic1\", \"Topic1\", \"Topic1\", \"Topic1\", \"Topic1\", \"Topic1\", \"Topic1\", \"Topic1\", \"Topic1\", \"Topic1\", \"Topic1\", \"Topic1\", \"Topic1\", \"Topic1\", \"Topic1\", \"Topic1\", \"Topic1\", \"Topic1\", \"Topic1\", \"Topic1\", \"Topic1\", \"Topic1\", \"Topic1\", \"Topic1\", \"Topic1\", \"Topic1\", \"Topic1\", \"Topic1\", \"Topic1\", \"Topic1\", \"Topic1\", \"Topic1\", \"Topic2\", \"Topic2\", \"Topic2\", \"Topic2\", \"Topic2\", \"Topic2\", \"Topic2\", \"Topic2\", \"Topic2\", \"Topic2\", \"Topic2\", \"Topic2\", \"Topic2\", \"Topic2\", \"Topic2\", \"Topic2\", \"Topic2\", \"Topic2\", \"Topic2\", \"Topic2\", \"Topic2\", \"Topic2\", \"Topic2\", \"Topic2\", \"Topic2\", \"Topic2\", \"Topic2\", \"Topic2\", \"Topic2\", \"Topic2\", \"Topic2\", \"Topic2\", \"Topic2\", \"Topic2\", \"Topic2\", \"Topic3\", \"Topic3\", \"Topic3\", \"Topic3\", \"Topic3\", \"Topic3\", \"Topic3\", \"Topic3\", \"Topic3\", \"Topic3\", \"Topic3\", \"Topic3\", \"Topic3\", \"Topic3\", \"Topic3\", \"Topic3\", \"Topic3\", \"Topic3\", \"Topic3\", \"Topic3\", \"Topic3\", \"Topic3\", \"Topic3\", \"Topic3\", \"Topic3\", \"Topic3\", \"Topic3\", \"Topic3\", \"Topic3\", \"Topic3\", \"Topic3\", \"Topic3\", \"Topic3\", \"Topic3\", \"Topic3\", \"Topic3\", \"Topic3\", \"Topic3\", \"Topic3\", \"Topic4\", \"Topic4\", \"Topic4\", \"Topic4\", \"Topic4\", \"Topic4\", \"Topic4\", \"Topic4\", \"Topic4\", \"Topic4\", \"Topic4\", \"Topic4\", \"Topic4\", \"Topic4\", \"Topic4\", \"Topic4\", \"Topic4\", \"Topic4\", \"Topic4\", \"Topic4\", \"Topic4\", \"Topic4\", \"Topic4\", \"Topic4\", \"Topic4\", \"Topic4\", \"Topic4\", \"Topic4\", \"Topic4\", \"Topic4\", \"Topic4\", \"Topic4\", \"Topic4\", \"Topic4\", \"Topic5\", \"Topic5\", \"Topic5\", \"Topic5\", \"Topic5\", \"Topic5\", \"Topic5\", \"Topic5\", \"Topic5\", \"Topic5\", \"Topic5\", \"Topic5\", \"Topic5\", \"Topic5\", \"Topic5\", \"Topic5\", \"Topic5\", \"Topic5\", \"Topic5\", \"Topic5\", \"Topic5\", \"Topic5\", \"Topic5\", \"Topic5\", \"Topic5\", \"Topic5\", \"Topic5\", \"Topic5\", \"Topic5\", \"Topic5\", \"Topic5\", \"Topic5\", \"Topic5\"], \"logprob\": [30.0, 29.0, 28.0, 27.0, 26.0, 25.0, 24.0, 23.0, 22.0, 21.0, 20.0, 19.0, 18.0, 17.0, 16.0, 15.0, 14.0, 13.0, 12.0, 11.0, 10.0, 9.0, 8.0, 7.0, 6.0, 5.0, 4.0, 3.0, 2.0, 1.0, -2.8219, -3.2354, -3.5691, -3.9812, -4.0389, -4.0409, -4.0419, -3.8305, -4.0649, -3.8671, -4.1148, -2.8676, -3.1115, -4.0102, -3.2903, -3.5337, -4.3512, -4.3547, -3.9965, -4.0551, -3.0792, -4.3892, -3.7892, -3.23, -4.3504, -4.9621, -4.9662, -4.9612, -4.9645, -4.9588, -4.5357, -2.9811, -3.9829, -4.856, -4.5345, -4.8391, -1.9428, -3.0687, -2.6937, -3.6812, -4.0411, -4.0412, -4.0413, -4.0418, -4.3132, -4.3136, -4.3137, -4.3141, -4.3141, -4.3375, -3.745, -4.0412, -4.041, -4.5191, -4.3105, -4.3108, -4.3129, -3.6621, -3.1948, -4.0759, -4.6876, -4.6895, -4.6877, -4.0253, -4.1862, -4.6879, -2.5856, -3.7823, -4.4207, -4.6256, -4.6161, -2.8526, -3.687, -3.6873, -3.5415, -3.0157, -2.8261, -4.1603, -4.1608, -4.1608, -4.1817, -3.9703, -4.052, -3.8794, -4.3328, -4.3631, -3.8243, -3.7128, -4.179, -4.4912, -4.5298, -4.5324, -4.532, -4.531, -4.5324, -4.5664, -4.1803, -3.524, -4.503, -4.5335, -4.5645, -4.5321, -4.3052, -3.2072, -3.6496, -3.105, -3.8986, -4.1627, -4.3313, -4.4603, -3.469, -3.6288, -3.482, -3.636, -3.8568, -4.095, -4.0953, -4.1169, -4.1351, -3.9367, -3.4652, -3.5215, -2.6305, -3.8934, -3.0717, -4.009, -3.2519, -4.4688, -3.5621, -4.0898, -4.5447, -2.4884, -4.472, -4.002, -4.5016, -3.3297, -4.3221, -5.0808, -5.0773, -5.0778, -4.4686, -4.1218, -3.01, -4.48, -2.8459, -2.7576, -3.6612, -4.0501, -4.0667, -4.0692, -4.322, -4.3446, -3.533, -3.7924, -4.3751, -4.1644, -3.8352, -4.2006, -4.0585, -2.9146, -3.659, -4.1048, -4.3215, -3.0762, -4.2102, -4.6946, -4.3205, -4.3758, -3.6001, -2.1646, -4.6924, -4.1217, -4.8377, -4.0041, -3.8646, -4.3238, -3.7794], \"loglift\": [30.0, 29.0, 28.0, 27.0, 26.0, 25.0, 24.0, 23.0, 22.0, 21.0, 20.0, 19.0, 18.0, 17.0, 16.0, 15.0, 14.0, 13.0, 12.0, 11.0, 10.0, 9.0, 8.0, 7.0, 6.0, 5.0, 4.0, 3.0, 2.0, 1.0, 1.6063, 1.5978, 1.5547, 1.5481, 1.4941, 1.4922, 1.4912, 1.4773, 1.4684, 1.4466, 1.4192, 1.4066, 1.3358, 1.298, 1.2491, 1.2075, 1.1899, 1.1865, 1.1513, 1.0933, 1.0331, 0.935, 0.8246, 0.803, 0.6524, 0.6088, 0.5965, 0.5927, 0.5888, 0.5859, 0.4738, -0.3066, 0.0391, 0.2746, -1.0611, -0.0616, 1.4599, 1.4312, 1.4017, 1.3548, 1.3301, 1.33, 1.3299, 1.3294, 1.2792, 1.2788, 1.2787, 1.2782, 1.2782, 1.2548, 1.1546, 1.1493, 1.1347, 1.0679, 1.0535, 1.0532, 1.041, 1.0065, 0.9524, 0.9503, 0.9053, 0.9034, 0.8833, 0.8792, 0.8374, 0.6688, 0.089, 0.1595, 0.0265, 0.3772, -0.133, 1.5356, 1.4727, 1.4724, 1.4632, 1.4501, 1.4136, 1.4052, 1.4047, 1.4046, 1.3844, 1.3745, 1.2864, 1.274, 1.2369, 1.2079, 1.1911, 1.1673, 1.1542, 1.0664, 1.0444, 1.0426, 1.0423, 1.0258, 1.0208, 0.9874, 0.9808, 0.9591, 0.8261, 0.8232, 0.7931, 0.7921, 0.7184, 0.2662, 0.3841, -0.4304, 0.1234, -0.1298, 0.3373, 0.3934, 1.5098, 1.504, 1.4972, 1.4971, 1.4601, 1.4447, 1.4444, 1.424, 1.4069, 1.3813, 1.3771, 1.3329, 1.3113, 1.2373, 1.2311, 1.1429, 1.1279, 1.0674, 1.0517, 1.0508, 1.0063, 0.985, 0.8717, 0.8518, 0.8275, 0.7032, 0.5562, 0.4761, 0.4674, 0.4669, 0.4095, 0.1524, -0.3354, -0.2403, 1.4331, 1.3935, 1.3777, 1.323, 1.3052, 1.3038, 1.2722, 1.2495, 1.2445, 1.2368, 1.219, 1.2085, 1.1911, 1.162, 1.1269, 1.119, 1.1131, 1.0722, 1.0368, 0.9458, 0.7993, 0.6491, 0.5576, 0.5286, 0.5123, 0.51, 0.4722, 0.4177, 0.3142, 0.2988, 0.2827, 0.1593, -0.306]}, \"token.table\": {\"Topic\": [1, 4, 5, 1, 3, 3, 2, 1, 2, 3, 4, 2, 1, 2, 3, 1, 2, 3, 4, 5, 2, 5, 2, 3, 5, 2, 1, 4, 1, 2, 3, 1, 4, 2, 3, 2, 2, 3, 1, 4, 2, 3, 1, 3, 4, 5, 1, 2, 5, 3, 1, 3, 5, 2, 3, 2, 5, 1, 3, 1, 3, 4, 2, 3, 3, 5, 5, 2, 3, 3, 5, 1, 3, 2, 3, 3, 4, 1, 3, 4, 5, 2, 3, 4, 2, 3, 2, 4, 5, 4, 5, 3, 5, 2, 2, 4, 5, 2, 4, 5, 1, 2, 1, 1, 3, 4, 5, 1, 5, 3, 4, 1, 4, 3, 4, 4, 5, 3, 3, 4, 4, 3, 1, 1, 2, 4, 5, 2, 3, 1, 5, 2, 2, 2, 5, 1, 5, 2, 4, 5, 4, 5, 2, 3, 4, 5, 5, 3, 5, 1, 5, 5, 4, 2, 4, 2, 3, 4, 2, 3, 2, 3, 5, 4, 1, 3, 1, 3, 5, 1, 5, 1, 5, 1, 2, 3, 4, 4, 3, 4, 5, 2, 5, 2, 5, 1, 3, 1, 4, 1, 4, 5, 2, 3, 4, 5, 3, 1, 2, 1, 2, 5, 1, 5, 3, 5, 3, 2, 5, 1, 3, 5, 1, 5, 1, 3, 1, 2, 4, 3, 3, 4, 4, 1, 3, 1, 3, 4, 5, 3, 4, 1, 2, 1, 3, 4, 1, 3, 1, 2, 5, 1, 3, 4, 5, 2, 5, 1, 4, 1, 4, 1, 3, 2, 5, 4, 4, 5, 5], \"Freq\": [0.3282262545351124, 0.1641131272675562, 0.4923393818026686, 0.282678190299838, 0.565356380599676, 0.5746805903685218, 0.8818401418023714, 0.19378812203014223, 0.7751524881205689, 0.8360089983654192, 0.15200163606643985, 0.8872940176107832, 0.8258696770275703, 0.0917632974475078, 0.0917632974475078, 0.12711050709665841, 0.23833220080623452, 0.12711050709665841, 0.1429993204837407, 0.3654427079028929, 0.8817640184687113, 0.7073240115678036, 0.23245682686616667, 0.46491365373233334, 0.23245682686616667, 0.8425469844432945, 0.18524830584221064, 0.7409932233688425, 0.3260203524831727, 0.3260203524831727, 0.3260203524831727, 0.6637094635804627, 0.22123648786015424, 0.28867269580175886, 0.5773453916035177, 0.8818220933551341, 0.5847314593570987, 0.29236572967854935, 0.27790052816887234, 0.5558010563377447, 0.7017596552268421, 0.23391988507561406, 0.2802583293858354, 0.2802583293858354, 0.2802583293858354, 0.8833672622733036, 0.5653172615989178, 0.18843908719963925, 0.18843908719963925, 0.6884584914484059, 0.1834033280246276, 0.2445377706995035, 0.5502099840738829, 0.46445203424692894, 0.46445203424692894, 0.5882173928840554, 0.2941086964420277, 0.8318508734711103, 0.2772836244903701, 0.2802566413308799, 0.2802566413308799, 0.2802566413308799, 0.2886870963093936, 0.5773741926187872, 0.6603224515626301, 0.33016122578131507, 0.8450564604796116, 0.499314798072759, 0.33287653204850604, 0.5754677018411848, 0.2877338509205924, 0.2268336359602486, 0.6805009078807458, 0.2883636922650692, 0.5767273845301384, 0.567375848783308, 0.283687924391654, 0.22801706953362408, 0.6840512086008723, 0.25886407180930066, 0.6471601795232516, 0.5835189127057697, 0.2334075650823079, 0.11670378254115395, 0.7017660173646006, 0.23392200578820022, 0.9424450286426114, 0.23259621830732713, 0.6977886549219814, 0.19403109896566365, 0.582093296896991, 0.577714455359981, 0.2888572276799905, 0.942452641180115, 0.7351580976064077, 0.14703161952128155, 0.14703161952128155, 0.5543117730206936, 0.0692889716275867, 0.2771558865103468, 0.5656494899895819, 0.37709965999305456, 0.8309397905529938, 0.3708097730743269, 0.18540488653716344, 0.3708097730743269, 0.06180162884572114, 0.6153367082651915, 0.30766835413259574, 0.8575327941239226, 0.09528142156932473, 0.7079945028690545, 0.23599816762301817, 0.8816599320099596, 0.7960347100193301, 0.45844871430927386, 0.45844871430927386, 0.762868623196029, 0.4518019993973977, 0.4518019993973977, 0.8365932345900473, 0.8584120295737313, 0.8312939771456637, 0.46838483842073947, 0.06691211977439135, 0.06691211977439135, 0.4014727186463481, 0.9424324658046654, 0.8584361678351732, 0.6673509750184641, 0.22245032500615472, 0.9424507926494731, 0.8818304526698366, 0.5882359556535877, 0.29411797782679383, 0.6634392209151635, 0.8834328719664539, 0.5006463742988406, 0.16688212476628023, 0.16688212476628023, 0.7026924220209089, 0.14053848440418176, 0.17485912482448926, 0.08742956241224463, 0.6120069368857124, 0.17485912482448926, 0.9484535087345372, 0.3092374378383982, 0.680322363244476, 0.166889320386307, 0.667557281545228, 0.7081738554715178, 0.9281279543381437, 0.28210136111053474, 0.7334635388873904, 0.8818129506748453, 0.22342200598046014, 0.6702660179413804, 0.9543546164345899, 0.032908779877054824, 0.19388909394200868, 0.4847227348550217, 0.290833640913013, 0.7957055763240002, 0.5584871742487098, 0.2792435871243549, 0.19164052359156933, 0.38328104718313866, 0.38328104718313866, 0.2336096539117129, 0.7008289617351386, 0.1301259583252332, 0.7807557499513992, 0.14043947573106602, 0.14043947573106602, 0.28087895146213204, 0.421318427193198, 0.8384490755233867, 0.5729140040674114, 0.19097133468913716, 0.19097133468913716, 0.8818296165438348, 0.8833163025089005, 0.5909691347440995, 0.44322685105807463, 0.5585649597665054, 0.2792824798832527, 0.44190645269939105, 0.5523830658742388, 0.8310615314264526, 0.6476010803093869, 0.32380054015469345, 0.28788420572992374, 0.14394210286496187, 0.28788420572992374, 0.28788420572992374, 0.7628623178138491, 0.2877041344003549, 0.5754082688007098, 0.6546976097959002, 0.18705645994168577, 0.09352822997084288, 0.06955788967998329, 0.9042525658397828, 0.19567571545635212, 0.5870271463690564, 0.8584154399904258, 0.7866904258166367, 0.19667260645415918, 0.28534833754707967, 0.28534833754707967, 0.28534833754707967, 0.16737250711794102, 0.836862535589705, 0.18949426590272628, 0.7579770636109051, 0.18708628755812312, 0.18708628755812312, 0.5612588626743693, 0.8589742612423917, 0.5678152692552103, 0.28390763462760515, 0.8926318200806579, 0.8254408329227959, 0.1375734721537993, 0.8279032442531928, 0.28779281496531867, 0.28779281496531867, 0.431689222447978, 0.2820540940515654, 0.5641081881031308, 0.23158542413261313, 0.6947562723978393, 0.28283750705571625, 0.5656750141114325, 0.8365821773915205, 0.44958614961675153, 0.44958614961675153, 0.6274484125254395, 0.2509793650101758, 0.1254896825050879, 0.0706391579763902, 0.24723705291736572, 0.49447410583473145, 0.1765978949409755, 0.9210706027649749, 0.06579075734035535, 0.1388488297126105, 0.6942441485630525, 0.7358476751793381, 0.8375761137783699, 0.831092772357105, 0.8166636223964611, 0.23601202194392173, 0.7080360658317651, 0.9285162091993147, 0.5676696966985231, 0.37844646446568203, 0.9442640833480342], \"Term\": [\"acoustique\", \"acoustique\", \"acoustique\", \"algebre\", \"algebre\", \"algorithme\", \"algorithmique\", \"allemand\", \"allemand\", \"analyse\", \"analyse\", \"anglais\", \"application\", \"application\", \"application\", \"apprentissage\", \"apprentissage\", \"apprentissage\", \"apprentissage\", \"apprentissage\", \"architectur\", \"atelier\", \"automatique\", \"automatique\", \"automatique\", \"base\", \"betiment\", \"betiment\", \"biologique\", \"biologique\", \"biologique\", \"calcul\", \"calcul\", \"capteur\", \"capteur\", \"cellulaire\", \"chimie\", \"chimie\", \"chimique\", \"chimique\", \"chinois\", \"chinois\", \"collectif\", \"collectif\", \"collectif\", \"commande\", \"communication\", \"communication\", \"communication\", \"concept\", \"conception\", \"conception\", \"conception\", \"connaissance\", \"connaissance\", \"construction\", \"construction\", \"contemporain\", \"contemporain\", \"contemporaine\", \"contemporaine\", \"contemporaine\", \"demarche\", \"demarche\", \"design\", \"design\", \"developpement\", \"donnee\", \"donnee\", \"droit\", \"droit\", \"dynamique\", \"dynamique\", \"economie\", \"economie\", \"economiqu\", \"economiqu\", \"electrique\", \"electrique\", \"element\", \"element\", \"entreprise\", \"entreprise\", \"entreprise\", \"espagnol\", \"espagnol\", \"etrangere\", \"etude\", \"etude\", \"fabrication\", \"fabrication\", \"fluide\", \"fluide\", \"franeai\", \"genie\", \"genie\", \"genie\", \"gestion\", \"gestion\", \"gestion\", \"histoire\", \"histoire\", \"industrie\", \"industriel\", \"industriel\", \"industriel\", \"industriel\", \"informatique\", \"informatique\", \"ingenierie\", \"ingenierie\", \"ingenieur\", \"ingenieur\", \"initiation\", \"innovation\", \"integre\", \"integre\", \"intelligence\", \"intelligent\", \"intelligent\", \"interaction\", \"interculturalite\", \"internet\", \"introduction\", \"introduction\", \"introduction\", \"introduction\", \"italien\", \"japonais\", \"langage\", \"langage\", \"langue\", \"learning\", \"logiciel\", \"logiciel\", \"logique\", \"logistique\", \"machine\", \"machine\", \"machine\", \"maetrise\", \"maetrise\", \"management\", \"management\", \"management\", \"management\", \"materiaux\", \"mecaniqu\", \"mecaniqu\", \"mecanique\", \"mecanique\", \"methode\", \"methodes\", \"modelisation\", \"modelisation\", \"moleculaire\", \"monde\", \"monde\", \"niveau\", \"niveau\", \"numeriqu\", \"numeriqu\", \"numeriqu\", \"numerique\", \"objet\", \"objet\", \"operation\", \"operation\", \"operation\", \"operationnelle\", \"operationnelle\", \"optimisation\", \"optimisation\", \"organisation\", \"organisation\", \"organisation\", \"organisation\", \"outil\", \"outils\", \"outils\", \"outils\", \"phenomene\", \"philosophie\", \"physique\", \"physique\", \"portugais\", \"portugais\", \"pratique\", \"pratique\", \"probleme\", \"procede\", \"procede\", \"production\", \"production\", \"production\", \"production\", \"produit\", \"professionnel\", \"professionnel\", \"programmation\", \"programmation\", \"programmation\", \"projet\", \"projet\", \"propriete\", \"propriete\", \"public\", \"qualite\", \"qualite\", \"realisation\", \"realisation\", \"realisation\", \"recherche\", \"recherche\", \"reseau\", \"reseau\", \"risque\", \"risque\", \"risque\", \"robotique\", \"robuste\", \"robuste\", \"sante\", \"science\", \"science\", \"securite\", \"simulation\", \"simulation\", \"simulation\", \"situation\", \"situation\", \"societe\", \"societe\", \"solide\", \"solide\", \"statistique\", \"strategie\", \"strategie\", \"structure\", \"structure\", \"structure\", \"systeme\", \"systeme\", \"systeme\", \"systeme\", \"technique\", \"technique\", \"technologie\", \"technologie\", \"theorie\", \"thermique\", \"thermodynamique\", \"traitement\", \"transfert\", \"transfert\", \"travail\", \"urbaine\", \"urbaine\", \"vibration\"]}, \"R\": 30, \"lambda.step\": 0.01, \"plot.opts\": {\"xlab\": \"PC1\", \"ylab\": \"PC2\"}, \"topic.order\": [1, 2, 3, 4, 5]};\n",
       "\n",
       "function LDAvis_load_lib(url, callback){\n",
       "  var s = document.createElement('script');\n",
       "  s.src = url;\n",
       "  s.async = true;\n",
       "  s.onreadystatechange = s.onload = callback;\n",
       "  s.onerror = function(){console.warn(\"failed to load library \" + url);};\n",
       "  document.getElementsByTagName(\"head\")[0].appendChild(s);\n",
       "}\n",
       "\n",
       "if(typeof(LDAvis) !== \"undefined\"){\n",
       "   // already loaded: just create the visualization\n",
       "   !function(LDAvis){\n",
       "       new LDAvis(\"#\" + \"ldavis_el1802415485820764803199390045\", ldavis_el1802415485820764803199390045_data);\n",
       "   }(LDAvis);\n",
       "}else if(typeof define === \"function\" && define.amd){\n",
       "   // require.js is available: use it to load d3/LDAvis\n",
       "   require.config({paths: {d3: \"https://d3js.org/d3.v5\"}});\n",
       "   require([\"d3\"], function(d3){\n",
       "      window.d3 = d3;\n",
       "      LDAvis_load_lib(\"https://cdn.jsdelivr.net/gh/bmabey/pyLDAvis@3.3.1/pyLDAvis/js/ldavis.v3.0.0.js\", function(){\n",
       "        new LDAvis(\"#\" + \"ldavis_el1802415485820764803199390045\", ldavis_el1802415485820764803199390045_data);\n",
       "      });\n",
       "    });\n",
       "}else{\n",
       "    // require.js not available: dynamically load d3 & LDAvis\n",
       "    LDAvis_load_lib(\"https://d3js.org/d3.v5.js\", function(){\n",
       "         LDAvis_load_lib(\"https://cdn.jsdelivr.net/gh/bmabey/pyLDAvis@3.3.1/pyLDAvis/js/ldavis.v3.0.0.js\", function(){\n",
       "                 new LDAvis(\"#\" + \"ldavis_el1802415485820764803199390045\", ldavis_el1802415485820764803199390045_data);\n",
       "            })\n",
       "         });\n",
       "}\n",
       "</script>"
      ],
      "text/plain": [
       "PreparedData(topic_coordinates=              x         y  topics  cluster       Freq\n",
       "topic                                                \n",
       "0      0.056097  0.135122       1        1  17.193989\n",
       "1     -0.247807 -0.013543       2        1  22.034989\n",
       "2      0.049134 -0.158178       3        1  19.587131\n",
       "3      0.107511 -0.061389       4        1  19.007566\n",
       "4      0.035065  0.097987       5        1  22.176325, topic_info=            Term       Freq      Total Category  logprob  loglift\n",
       "61        niveau  30.000000  30.000000  Default  30.0000  30.0000\n",
       "18  modelisation  17.000000  17.000000  Default  29.0000  29.0000\n",
       "31     technique  15.000000  15.000000  Default  28.0000  28.0000\n",
       "35        projet  14.000000  14.000000  Default  27.0000  27.0000\n",
       "52     materiaux  12.000000  12.000000  Default  26.0000  26.0000\n",
       "..           ...        ...        ...      ...      ...      ...\n",
       "83       urbaine   1.604670   5.284763   Topic5  -4.8377   0.3142\n",
       "70       procede   3.693347  12.353284   Topic5  -4.0041   0.2988\n",
       "29       gestion   4.246097  14.432311   Topic5  -3.8646   0.2827\n",
       "62      numeriqu   2.682597  10.315175   Topic5  -4.3238   0.1593\n",
       "25       systeme   4.623510  28.312908   Topic5  -3.7794  -0.3060\n",
       "\n",
       "[207 rows x 6 columns], token_table=      Topic      Freq        Term\n",
       "term                             \n",
       "59        1  0.328226  acoustique\n",
       "59        4  0.164113  acoustique\n",
       "59        5  0.492339  acoustique\n",
       "0         1  0.282678     algebre\n",
       "0         3  0.565356     algebre\n",
       "...     ...       ...         ...\n",
       "133       5  0.708036   transfert\n",
       "66        4  0.928516     travail\n",
       "83        4  0.567670     urbaine\n",
       "83        5  0.378446     urbaine\n",
       "69        5  0.944264   vibration\n",
       "\n",
       "[259 rows x 3 columns], R=30, lambda_step=0.01, plot_opts={'xlab': 'PC1', 'ylab': 'PC2'}, topic_order=[1, 2, 3, 4, 5])"
      ]
     },
     "execution_count": 96,
     "metadata": {},
     "output_type": "execute_result"
    }
   ],
   "source": [
    "import pyLDAvis.gensim_models\n",
    "import warnings\n",
    "\n",
    "pyLDAvis.enable_notebook()\n",
    "warnings.filterwarnings(\"ignore\", category=DeprecationWarning) \n",
    "\n",
    "pyLDAvis.gensim_models.prepare(model, corpus, dictionary, sort_topics=False)"
   ]
  },
  {
   "cell_type": "markdown",
   "metadata": {
    "id": "xmn_M3i5NMtF"
   },
   "source": [
    "Enfin, examinons les topics que le modèle reconnaît dans certains des documents individuels. Nous voyons ici comment LDA tend à attribuer une probabilité élevée à un faible nombre de sujets pour chaque document, ce qui rend ses résultats très interprétables."
   ]
  },
  {
   "cell_type": "code",
   "execution_count": 97,
   "metadata": {
    "id": "kxzQwJPXNMtG",
    "outputId": "9e66dc0e-be46-414e-9ee8-0345cd32ea55"
   },
   "outputs": [
    {
     "name": "stdout",
     "output_type": "stream",
     "text": [
      "***********\n",
      "* doc 1   *\n",
      "***********\n",
      "REVISION D'ANALYSE ET D'ALGEBRE (APPRENTISSAGE)\n",
      "[(3, 0.79624146)]\n",
      "\n",
      "***********\n",
      "* doc 2   *\n",
      "***********\n",
      "BASES DE LA PROGRAMMATION (APPRENTISSAGE)\n",
      "[(2, 0.79526883)]\n",
      "\n",
      "***********\n",
      "* doc 3   *\n",
      "***********\n",
      "PARTICIPER E UNE DEMARCHE QUALITE EN ENTREPRISE (APPRENTISSAGE)\n",
      "[(2, 0.8379101)]\n",
      "\n",
      "***********\n",
      "* doc 4   *\n",
      "***********\n",
      "METHODES STATISTIQUES POUR L'INGENIEUR (APPRENTISSAGE)\n",
      "[(4, 0.83684564)]\n",
      "\n"
     ]
    }
   ],
   "source": [
    "# Nous en affichons que 4\n",
    "n_doc = 4\n",
    "i = 0\n",
    "for (text, doc) in zip(textes[:n_doc], docs[:n_doc]):\n",
    "    i += 1\n",
    "    print(\"***********\")\n",
    "    print(\"* doc\", i, \"  *\")\n",
    "    print(\"***********\")\n",
    "    print(text)\n",
    "    print([(topic+1, prob) for (topic, prob) in model[dictionary.doc2bow(doc)] if prob > 0.1])\n",
    "    print()"
   ]
  },
  {
   "cell_type": "code",
   "execution_count": 98,
   "metadata": {},
   "outputs": [
    {
     "data": {
      "text/plain": [
       "[(0, 0.050840557),\n",
       " (1, 0.050876055),\n",
       " (2, 0.79616886),\n",
       " (3, 0.05062242),\n",
       " (4, 0.051492117)]"
      ]
     },
     "execution_count": 98,
     "metadata": {},
     "output_type": "execute_result"
    }
   ],
   "source": [
    "model[dictionary.doc2bow(['revision', 'analyse', 'algebre', 'apprentissage'])]"
   ]
  },
  {
   "cell_type": "code",
   "execution_count": 99,
   "metadata": {},
   "outputs": [
    {
     "data": {
      "text/html": [
       "<div>\n",
       "<style scoped>\n",
       "    .dataframe tbody tr th:only-of-type {\n",
       "        vertical-align: middle;\n",
       "    }\n",
       "\n",
       "    .dataframe tbody tr th {\n",
       "        vertical-align: top;\n",
       "    }\n",
       "\n",
       "    .dataframe thead th {\n",
       "        text-align: right;\n",
       "    }\n",
       "</style>\n",
       "<table border=\"1\" class=\"dataframe\">\n",
       "  <thead>\n",
       "    <tr style=\"text-align: right;\">\n",
       "      <th></th>\n",
       "      <th>titreUVBranche</th>\n",
       "      <th>class</th>\n",
       "    </tr>\n",
       "    <tr>\n",
       "      <th>codeUVBranche</th>\n",
       "      <th></th>\n",
       "      <th></th>\n",
       "    </tr>\n",
       "  </thead>\n",
       "  <tbody>\n",
       "    <tr>\n",
       "      <th>AC01</th>\n",
       "      <td>REVISION D'ANALYSE ET D'ALGEBRE (APPRENTISSAGE)</td>\n",
       "      <td>0</td>\n",
       "    </tr>\n",
       "    <tr>\n",
       "      <th>AC02</th>\n",
       "      <td>BASES DE LA PROGRAMMATION (APPRENTISSAGE)</td>\n",
       "      <td>0</td>\n",
       "    </tr>\n",
       "    <tr>\n",
       "      <th>AC03</th>\n",
       "      <td>PARTICIPER E UNE DEMARCHE QUALITE EN ENTREPRIS...</td>\n",
       "      <td>0</td>\n",
       "    </tr>\n",
       "    <tr>\n",
       "      <th>AC04</th>\n",
       "      <td>METHODES STATISTIQUES POUR L'INGENIEUR (APPREN...</td>\n",
       "      <td>0</td>\n",
       "    </tr>\n",
       "    <tr>\n",
       "      <th>AI01</th>\n",
       "      <td>ALGORITHMIQUE ET STRUCTURE DE DONNEES (APPRENT...</td>\n",
       "      <td>0</td>\n",
       "    </tr>\n",
       "    <tr>\n",
       "      <th>...</th>\n",
       "      <td>...</td>\n",
       "      <td>...</td>\n",
       "    </tr>\n",
       "    <tr>\n",
       "      <th>TF11</th>\n",
       "      <td>INTRODUCTION AUX PHENOMENES DE TRANSFERT</td>\n",
       "      <td>0</td>\n",
       "    </tr>\n",
       "    <tr>\n",
       "      <th>TN01</th>\n",
       "      <td>ELEMENTS DE DESSIN TECHNIQUE</td>\n",
       "      <td>0</td>\n",
       "    </tr>\n",
       "    <tr>\n",
       "      <th>TN03</th>\n",
       "      <td>FABRICATION MECANIQUE</td>\n",
       "      <td>0</td>\n",
       "    </tr>\n",
       "    <tr>\n",
       "      <th>TN04</th>\n",
       "      <td>REALISATION</td>\n",
       "      <td>0</td>\n",
       "    </tr>\n",
       "    <tr>\n",
       "      <th>TN06</th>\n",
       "      <td>TRANSMISSION DES EFFORTS EN MECANIQUE</td>\n",
       "      <td>0</td>\n",
       "    </tr>\n",
       "  </tbody>\n",
       "</table>\n",
       "<p>421 rows × 2 columns</p>\n",
       "</div>"
      ],
      "text/plain": [
       "                                                  titreUVBranche  class\n",
       "codeUVBranche                                                          \n",
       "AC01             REVISION D'ANALYSE ET D'ALGEBRE (APPRENTISSAGE)      0\n",
       "AC02                   BASES DE LA PROGRAMMATION (APPRENTISSAGE)      0\n",
       "AC03           PARTICIPER E UNE DEMARCHE QUALITE EN ENTREPRIS...      0\n",
       "AC04           METHODES STATISTIQUES POUR L'INGENIEUR (APPREN...      0\n",
       "AI01           ALGORITHMIQUE ET STRUCTURE DE DONNEES (APPRENT...      0\n",
       "...                                                          ...    ...\n",
       "TF11                    INTRODUCTION AUX PHENOMENES DE TRANSFERT      0\n",
       "TN01                                ELEMENTS DE DESSIN TECHNIQUE      0\n",
       "TN03                                       FABRICATION MECANIQUE      0\n",
       "TN04                                                 REALISATION      0\n",
       "TN06                       TRANSMISSION DES EFFORTS EN MECANIQUE      0\n",
       "\n",
       "[421 rows x 2 columns]"
      ]
     },
     "execution_count": 99,
     "metadata": {},
     "output_type": "execute_result"
    }
   ],
   "source": [
    "textes_df = pd.DataFrame(textes)\n",
    "textes_df[\"class\"] = 0\n",
    "textes_df"
   ]
  },
  {
   "cell_type": "code",
   "execution_count": 100,
   "metadata": {},
   "outputs": [],
   "source": [
    "for (text, doc) in zip(textes, docs):\n",
    "    prob_max = 0\n",
    "    for (topic, prob) in model[dictionary.doc2bow(doc)]:\n",
    "        if prob > prob_max :\n",
    "            prob_max = prob\n",
    "            classe = topic + 1\n",
    "    textes_df.loc[textes_df.titreUVBranche == text,\"class\"] = classe\n",
    "    "
   ]
  },
  {
   "cell_type": "code",
   "execution_count": 101,
   "metadata": {},
   "outputs": [
    {
     "data": {
      "text/html": [
       "<div>\n",
       "<style scoped>\n",
       "    .dataframe tbody tr th:only-of-type {\n",
       "        vertical-align: middle;\n",
       "    }\n",
       "\n",
       "    .dataframe tbody tr th {\n",
       "        vertical-align: top;\n",
       "    }\n",
       "\n",
       "    .dataframe thead th {\n",
       "        text-align: right;\n",
       "    }\n",
       "</style>\n",
       "<table border=\"1\" class=\"dataframe\">\n",
       "  <thead>\n",
       "    <tr style=\"text-align: right;\">\n",
       "      <th></th>\n",
       "      <th>titreUVBranche</th>\n",
       "      <th>class</th>\n",
       "    </tr>\n",
       "    <tr>\n",
       "      <th>codeUVBranche</th>\n",
       "      <th></th>\n",
       "      <th></th>\n",
       "    </tr>\n",
       "  </thead>\n",
       "  <tbody>\n",
       "    <tr>\n",
       "      <th>AC01</th>\n",
       "      <td>REVISION D'ANALYSE ET D'ALGEBRE (APPRENTISSAGE)</td>\n",
       "      <td>3</td>\n",
       "    </tr>\n",
       "    <tr>\n",
       "      <th>AC02</th>\n",
       "      <td>BASES DE LA PROGRAMMATION (APPRENTISSAGE)</td>\n",
       "      <td>2</td>\n",
       "    </tr>\n",
       "    <tr>\n",
       "      <th>AC03</th>\n",
       "      <td>PARTICIPER E UNE DEMARCHE QUALITE EN ENTREPRIS...</td>\n",
       "      <td>2</td>\n",
       "    </tr>\n",
       "    <tr>\n",
       "      <th>AC04</th>\n",
       "      <td>METHODES STATISTIQUES POUR L'INGENIEUR (APPREN...</td>\n",
       "      <td>4</td>\n",
       "    </tr>\n",
       "    <tr>\n",
       "      <th>AI01</th>\n",
       "      <td>ALGORITHMIQUE ET STRUCTURE DE DONNEES (APPRENT...</td>\n",
       "      <td>2</td>\n",
       "    </tr>\n",
       "    <tr>\n",
       "      <th>...</th>\n",
       "      <td>...</td>\n",
       "      <td>...</td>\n",
       "    </tr>\n",
       "    <tr>\n",
       "      <th>TF11</th>\n",
       "      <td>INTRODUCTION AUX PHENOMENES DE TRANSFERT</td>\n",
       "      <td>5</td>\n",
       "    </tr>\n",
       "    <tr>\n",
       "      <th>TN01</th>\n",
       "      <td>ELEMENTS DE DESSIN TECHNIQUE</td>\n",
       "      <td>5</td>\n",
       "    </tr>\n",
       "    <tr>\n",
       "      <th>TN03</th>\n",
       "      <td>FABRICATION MECANIQUE</td>\n",
       "      <td>5</td>\n",
       "    </tr>\n",
       "    <tr>\n",
       "      <th>TN04</th>\n",
       "      <td>REALISATION</td>\n",
       "      <td>1</td>\n",
       "    </tr>\n",
       "    <tr>\n",
       "      <th>TN06</th>\n",
       "      <td>TRANSMISSION DES EFFORTS EN MECANIQUE</td>\n",
       "      <td>5</td>\n",
       "    </tr>\n",
       "  </tbody>\n",
       "</table>\n",
       "<p>421 rows × 2 columns</p>\n",
       "</div>"
      ],
      "text/plain": [
       "                                                  titreUVBranche  class\n",
       "codeUVBranche                                                          \n",
       "AC01             REVISION D'ANALYSE ET D'ALGEBRE (APPRENTISSAGE)      3\n",
       "AC02                   BASES DE LA PROGRAMMATION (APPRENTISSAGE)      2\n",
       "AC03           PARTICIPER E UNE DEMARCHE QUALITE EN ENTREPRIS...      2\n",
       "AC04           METHODES STATISTIQUES POUR L'INGENIEUR (APPREN...      4\n",
       "AI01           ALGORITHMIQUE ET STRUCTURE DE DONNEES (APPRENT...      2\n",
       "...                                                          ...    ...\n",
       "TF11                    INTRODUCTION AUX PHENOMENES DE TRANSFERT      5\n",
       "TN01                                ELEMENTS DE DESSIN TECHNIQUE      5\n",
       "TN03                                       FABRICATION MECANIQUE      5\n",
       "TN04                                                 REALISATION      1\n",
       "TN06                       TRANSMISSION DES EFFORTS EN MECANIQUE      5\n",
       "\n",
       "[421 rows x 2 columns]"
      ]
     },
     "execution_count": 101,
     "metadata": {},
     "output_type": "execute_result"
    }
   ],
   "source": [
    "textes_df"
   ]
  },
  {
   "cell_type": "code",
   "execution_count": null,
   "metadata": {},
   "outputs": [],
   "source": []
  }
 ],
 "metadata": {
  "celltoolbar": "Aucun(e)",
  "colab": {
   "collapsed_sections": [],
   "name": "GrandDebatLO17.ipynb",
   "provenance": []
  },
  "kernelspec": {
   "display_name": "Python 3 (ipykernel)",
   "language": "python",
   "name": "python3"
  },
  "language_info": {
   "codemirror_mode": {
    "name": "ipython",
    "version": 3
   },
   "file_extension": ".py",
   "mimetype": "text/x-python",
   "name": "python",
   "nbconvert_exporter": "python",
   "pygments_lexer": "ipython3",
   "version": "3.9.12"
  }
 },
 "nbformat": 4,
 "nbformat_minor": 1
}
